{
 "cells": [
  {
   "cell_type": "code",
   "execution_count": null,
   "id": "7504bd40-7a48-4204-98d4-93f1b70aa332",
   "metadata": {},
   "outputs": [],
   "source": [
    "#problem 2\n",
    "import pandas as pd\n",
    "import matplotlib.pyplot as plt\n",
    "from numpy import *\n",
    "\n",
    "e=2.71828\n",
    "\n",
    "#the making of the plot from the exact solution\n",
    "\n",
    "x = [0]*10\n",
    "n = len(lst)\n",
    "print(len(x))\n",
    "\n",
    "for i in range (n):\n",
    "    x[i] = i/(1+len(x)) +1/(len(x)+1)\n",
    "print(x)\n",
    "\n",
    "df = pd.DataFrame(x)\n",
    "df = pd.DataFrame(x, columns=['x'])\n",
    "print(df)\n",
    "\n",
    "for i in range(n):\n",
    "    u[i] = 1 - (1-e**(-10))*x[i]-e**(-10*x[i])\n",
    "print(u)\n",
    "\n",
    "dfu = pd.DataFrame(u)\n",
    "dfu = pd.DataFrame(u, columns=['u'])\n",
    "print(dfu)\n",
    "\n",
    "list = pd.concat([df, dfu], axis = 1)\n",
    "print(list)\n",
    "\n",
    "#saving the list to file\n",
    "list.to_csv('liste.csv')\n",
    "\n",
    "#importing list from file\n",
    "result = pd.read_csv('liste.csv')\n",
    "\n",
    "#plotting the list\n",
    "plt.plot(result.x, result.u)\n",
    "\n",
    "\n",
    "#plt.savefig('problem2.pdf')"
   ]
  }
 ],
 "metadata": {
  "kernelspec": {
   "display_name": "Python 3 (ipykernel)",
   "language": "python",
   "name": "python3"
  },
  "language_info": {
   "codemirror_mode": {
    "name": "ipython",
    "version": 3
   },
   "file_extension": ".py",
   "mimetype": "text/x-python",
   "name": "python",
   "nbconvert_exporter": "python",
   "pygments_lexer": "ipython3",
   "version": "3.9.12"
  }
 },
 "nbformat": 4,
 "nbformat_minor": 5
}

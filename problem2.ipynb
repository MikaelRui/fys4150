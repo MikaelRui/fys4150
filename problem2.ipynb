{
 "cells": [
  {
   "cell_type": "code",
   "execution_count": 13,
   "id": "06f70424-e90f-4ca7-bbf2-2c4ca10df7e7",
   "metadata": {
    "collapsed": true,
    "jupyter": {
     "outputs_hidden": true,
     "source_hidden": true
    },
    "tags": []
   },
   "outputs": [
    {
     "name": "stdout",
     "output_type": "stream",
     "text": [
      "x =  0 y =  0.0\n",
      "x =  0.1 y =  0.5321250988215339\n",
      "x =  0.2 y =  0.6646737967493398\n",
      "x =  0.30000000000000004 y =  0.6502265516110647\n",
      "x =  0.4 y =  0.5817025210831708\n",
      "x =  0.5 y =  0.49328475296579577\n",
      "x =  0.6 y =  0.3975484877811911\n",
      "x =  0.7 y =  0.2991198979852792\n",
      "x =  0.7999999999999999 y =  0.1997008573159076\n",
      "x =  0.8999999999999999 y =  0.09991745013269968\n",
      "x =  0.9999999999999999 y =  1.1680923155815703e-16\n"
     ]
    }
   ],
   "source": [
    "import pandas as pd\n",
    "import math\n",
    "\n",
    "x=0\n",
    "while x<=1:\n",
    "    u = 1-(1-math.e**(-10))*x-math.e**(-10*x)\n",
    "    print(\"x = \",x,\"y = \",u)\n",
    "    x+=0.100\n",
    "    \n"
   ]
  },
  {
   "cell_type": "code",
   "execution_count": 170,
   "id": "0600d78e-e2de-4664-9c23-6e86bbf8bb65",
   "metadata": {},
   "outputs": [
    {
     "name": "stdout",
     "output_type": "stream",
     "text": [
      "     0.0000e+00  0.0000e+00\n",
      "0    2.0000e-01  6.6467e-01\n",
      "1    4.0000e-01  5.8170e-01\n",
      "2    6.0000e-01  3.9755e-01\n",
      "3    8.0000e-01  1.9970e-01\n",
      "4    1.0000e+00  5.8682e-18\n",
      "    x   y\n",
      "0 NaN NaN\n",
      "1 NaN NaN\n",
      "2 NaN NaN\n",
      "3 NaN NaN\n",
      "4 NaN NaN\n"
     ]
    }
   ],
   "source": [
    "import pandas as pd\n",
    "import matplotlib.pyplot as plt\n",
    "from numpy import *\n",
    "\n",
    "\n",
    "df = pd.read_csv(\"df.txt\")\n",
    "df=pd.DataFrame(df)\n",
    "print(df)\n",
    "\n",
    "df = pd.DataFrame(x, columns=['x','y'])\n",
    "print(df)\n"
   ]
  },
  {
   "cell_type": "code",
   "execution_count": 193,
   "id": "b0c93e7f-6170-4a91-a81a-a20cb3b739e5",
   "metadata": {},
   "outputs": [
    {
     "name": "stdout",
     "output_type": "stream",
     "text": [
      "10\n",
      "[0.09090909090909091, 0.18181818181818182, 0.2727272727272727, 0.36363636363636365, 0.4545454545454546, 0.5454545454545454, 0.6363636363636364, 0.7272727272727273, 0.8181818181818182, 0.9090909090909092]\n",
      "          x\n",
      "0  0.090909\n",
      "1  0.181818\n",
      "2  0.272727\n",
      "3  0.363636\n",
      "4  0.454545\n",
      "5  0.545455\n",
      "6  0.636364\n",
      "7  0.727273\n",
      "8  0.818182\n",
      "9  0.909091\n",
      "[0.5062044684873781, 0.6558692630691476, 0.661887585953049, 0.6100321002781045, 0.5348598030064877, 0.4502933822691254, 0.3619421577937484, 0.2720660715909814, 0.181575632980901, 0.09083767758054886, 0, 0, 0, 0, 0]\n",
      "           u\n",
      "0   0.506204\n",
      "1   0.655869\n",
      "2   0.661888\n",
      "3   0.610032\n",
      "4   0.534860\n",
      "5   0.450293\n",
      "6   0.361942\n",
      "7   0.272066\n",
      "8   0.181576\n",
      "9   0.090838\n",
      "10  0.000000\n",
      "11  0.000000\n",
      "12  0.000000\n",
      "13  0.000000\n",
      "14  0.000000\n",
      "           x         u\n",
      "0   0.090909  0.506204\n",
      "1   0.181818  0.655869\n",
      "2   0.272727  0.661888\n",
      "3   0.363636  0.610032\n",
      "4   0.454545  0.534860\n",
      "5   0.545455  0.450293\n",
      "6   0.636364  0.361942\n",
      "7   0.727273  0.272066\n",
      "8   0.818182  0.181576\n",
      "9   0.909091  0.090838\n",
      "10       NaN  0.000000\n",
      "11       NaN  0.000000\n",
      "12       NaN  0.000000\n",
      "13       NaN  0.000000\n",
      "14       NaN  0.000000\n"
     ]
    },
    {
     "data": {
      "text/plain": [
       "[<matplotlib.lines.Line2D at 0x7f68789b6b20>]"
      ]
     },
     "execution_count": 193,
     "metadata": {},
     "output_type": "execute_result"
    },
    {
     "data": {
      "image/png": "[encoded data removed]",
      "text/plain": [
       "<Figure size 432x288 with 1 Axes>"
      ]
     },
     "metadata": {
      "needs_background": "light"
     },
     "output_type": "display_data"
    }
   ],
   "source": [
    "#problem 2\n",
    "import pandas as pd\n",
    "import matplotlib.pyplot as plt\n",
    "from numpy import *\n",
    "\n",
    "e=2.71828\n",
    "\n",
    "#the making of the plot from the exact solution\n",
    "\n",
    "x = [0]*10\n",
    "n = len(lst)\n",
    "print(len(x))\n",
    "\n",
    "for i in range (n):\n",
    "    x[i] = i/(1+len(x)) +1/(len(x)+1)\n",
    "print(x)\n",
    "\n",
    "df = pd.DataFrame(x)\n",
    "df = pd.DataFrame(x, columns=['x'])\n",
    "print(df)\n",
    "\n",
    "for i in range(n):\n",
    "    u[i] = 1 - (1-e**(-10))*x[i]-e**(-10*x[i])\n",
    "print(u)\n",
    "\n",
    "dfu = pd.DataFrame(u)\n",
    "dfu = pd.DataFrame(u, columns=['u'])\n",
    "print(dfu)\n",
    "\n",
    "list = pd.concat([df, dfu], axis = 1)\n",
    "print(list)\n",
    "\n",
    "#saving the list to file\n",
    "list.to_csv('liste.csv')\n",
    "\n",
    "#importing list from file\n",
    "result = pd.read_csv('liste.csv')\n",
    "\n",
    "#plotting the list\n",
    "plt.plot(result.x, result.u)\n",
    "\n",
    "\n",
    "#plt.savefig('problem2.pdf')"
   ]
  },
  {
   "cell_type": "code",
   "execution_count": null,
   "id": "cdeb21a2-553b-496c-afe4-2ad6e482746f",
   "metadata": {},
   "outputs": [],
   "source": []
  },
  {
   "cell_type": "code",
   "execution_count": null,
   "id": "407c78e3-3e3d-49ea-9dac-ed587a428a3c",
   "metadata": {},
   "outputs": [],
   "source": []
  }
 ],
 "metadata": {
  "kernelspec": {
   "display_name": "Python 3 (ipykernel)",
   "language": "python",
   "name": "python3"
  },
  "language_info": {
   "codemirror_mode": {
    "name": "ipython",
    "version": 3
   },
   "file_extension": ".py",
   "mimetype": "text/x-python",
   "name": "python",
   "nbconvert_exporter": "python",
   "pygments_lexer": "ipython3",
   "version": "3.9.12"
  }
 },
 "nbformat": 4,
 "nbformat_minor": 5
}

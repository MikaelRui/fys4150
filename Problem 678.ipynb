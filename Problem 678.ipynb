{
 "cells": [
  {
   "cell_type": "code",
   "execution_count": 173,
   "id": "62498e5d-3e28-4d9d-b47f-c7ad540ee44b",
   "metadata": {},
   "outputs": [
    {
     "name": "stdout",
     "output_type": "stream",
     "text": [
      "Results: g vector\n",
      "[0.8 1.4 1.6 1.2]\n",
      "matrix A 10 x 10 matrix\n",
      "[[ 2. -1.  0.  0.  0.  0.  0.  0.  0.  0.]\n",
      " [-1.  2. -1.  0.  0.  0.  0.  0.  0.  0.]\n",
      " [ 0. -1.  2. -1.  0.  0.  0.  0.  0.  0.]\n",
      " [ 0.  0. -1.  2. -1.  0.  0.  0.  0.  0.]\n",
      " [ 0.  0.  0. -1.  2. -1.  0.  0.  0.  0.]\n",
      " [ 0.  0.  0.  0. -1.  2. -1.  0.  0.  0.]\n",
      " [ 0.  0.  0.  0.  0. -1.  2. -1.  0.  0.]\n",
      " [ 0.  0.  0.  0.  0.  0. -1.  2. -1.  0.]\n",
      " [ 0.  0.  0.  0.  0.  0.  0. -1.  2. -1.]\n",
      " [ 0.  0.  0.  0.  0.  0.  0.  0. -1.  2.]]\n",
      "vector v\n",
      "[0.09090909090909091, 0.18181818181818182, 0.2727272727272727, 0.36363636363636365, 0.4545454545454546, 0.5454545454545454, 0.6363636363636364, 0.7272727272727273, 0.8181818181818182, 0.9090909090909092]\n",
      "Results: vector g\n",
      "[1.81818182 3.54545455 5.09090909 6.36363636 7.27272727 7.72727273\n",
      " 7.63636364 6.90909091 5.45454545 3.18181818]\n"
     ]
    }
   ],
   "source": [
    "from numpy import *\n",
    "\n",
    "#problem 6 & 7\n",
    "\n",
    "a = np.array([[2, -1, 0, 0],\n",
    "           [-1, 2, -1, 0],\n",
    "           [0, -1, 2, -1],\n",
    "           [0, 0, -1, 2]],float)\n",
    "b = np.array([0.2, 0.4, 0.6, 0.8], float)\n",
    "n = len(b)\n",
    "x = np.zeros(n, float)\n",
    "\n",
    "#forward elimination\n",
    "for k in range(n-1):\n",
    "    for i in range(k+1, n):\n",
    "        fctr = a[i, k] / a[k, k]\n",
    "        for j in range(k, n):\n",
    "            a[i, j] = a[i, j] - fctr*a[k, j]\n",
    "        b[i] = b[i] - fctr*b[k]\n",
    "        \n",
    "#back-subst.\n",
    "x[n-1] = b[n-1] / a[n-1, n-1]\n",
    "for i in range(n-2, -1, -1):\n",
    "  Sum = b[i]\n",
    "  for j in range(i+1, n):\n",
    "      Sum = Sum - a[i, j]*x[j]\n",
    "  x[i] = Sum/a[i, i]\n",
    "  \n",
    "print('Results: g vector')\n",
    "print(x)\n",
    "\n",
    "# making the tridiagonal matrix\n",
    "nXn = 10\n",
    "a = zeros((nXn, nXn), dtype=float)\n",
    "u = len(a)\n",
    "for i in range(u):\n",
    "    for j in range(len(a[i])):\n",
    "        if i == j:\n",
    "            a[i][j] = 2\n",
    "        elif i - j == -1 or i-j == 1:\n",
    "            a[i][j]=-1\n",
    "        else:\n",
    "            a[i][j] = 0\n",
    "\n",
    "#making the v_i vector with equal stepsize:\n",
    "\n",
    "b = [0]*len(a)\n",
    "for i in range(u):\n",
    "    b[i] = i/(1+len(a)) +1/(len(a)+1)\n",
    "\n",
    "n=len(a)\n",
    "\n",
    "print(\"matrix A\", len(a),\"x\",len(a),\"matrix\")\n",
    "print(a)\n",
    "print(\"vector v\") #steps\n",
    "print(b)\n",
    "\n",
    "\n",
    "x = np.zeros(n, float)\n",
    "\n",
    "#forward elimination\n",
    "for k in range(n-1):\n",
    "    for i in range(k+1, n):\n",
    "        fctr = a[i, k] / a[k, k]\n",
    "        for j in range(k, n):\n",
    "            a[i, j] = a[i, j] - fctr*a[k, j]\n",
    "        b[i] = b[i] - fctr*b[k]\n",
    "        \n",
    "#back-subst.\n",
    "x[n-1] = b[n-1] / a[n-1, n-1]\n",
    "for i in range(n-2, -1, -1):\n",
    "  Sum = b[i]\n",
    "  for j in range(i+1, n):\n",
    "      Sum = Sum - a[i, j]*x[j]\n",
    "  x[i] = Sum/a[i, i]\n",
    "  \n",
    "print('Results: vector g')\n",
    "print(x)\n",
    "v=x\n",
    "\n",
    "list_v = pd.DataFrame(x, columns=['v'])"
   ]
  },
  {
   "cell_type": "code",
   "execution_count": 187,
   "id": "ed8250d1-f26e-40f6-af47-140497cc4eff",
   "metadata": {},
   "outputs": [
    {
     "name": "stdout",
     "output_type": "stream",
     "text": [
      "[0.09090909090909091, 0.18181818181818182, 0.2727272727272727, 0.36363636363636365, 0.4545454545454546, 0.5454545454545454, 0.6363636363636364, 0.7272727272727273, 0.8181818181818182, 0.9090909090909092]\n",
      "exact solution, u(x)\n",
      "[0.5062044684873781, 0.6558692630691476, 0.661887585953049, 0.6100321002781045, 0.5348598030064877, 0.4502933822691254, 0.3619421577937484, 0.2720660715909814, 0.181575632980901, 0.09083767758054886]\n",
      "difference between estimated results and exact results\n",
      "[-0.41529537757828716, -0.4740510812509658, -0.38916031322577627, -0.24639573664174086, -0.08031434846103314, 0.09516116318542, 0.27442147856988797, 0.4552066556817459, 0.6366061852009173, 0.8182532315103603]\n"
     ]
    }
   ],
   "source": [
    "e = 2.71828\n",
    "x = [0]*10\n",
    "for i in range(len(x)):\n",
    "    x[i] = i/(1+len(x)) +1/(len(x)+1)\n",
    "print(x)\n",
    "xakse=x\n",
    "b=[0]*10\n",
    "for i in range(len(x)):\n",
    "    b[i] = 1-(1-e**(-10))*x[i]-e**(-10*x[i])\n",
    "print(\"exact solution, u(x)\")\n",
    "print(b)\n",
    "\n",
    "d = [0]*10\n",
    "for i in range(len(b)):\n",
    "    d[i] = x[i]-b[i]\n",
    "\n",
    "print(\"difference between estimated results and exact results\")\n",
    "print(d)\n"
   ]
  },
  {
   "cell_type": "code",
   "execution_count": 190,
   "id": "f71e6866-f220-47f0-a4da-bd8ffc97b176",
   "metadata": {},
   "outputs": [
    {
     "name": "stdout",
     "output_type": "stream",
     "text": [
      "          x\n",
      "0  0.090909\n",
      "1  0.181818\n",
      "2  0.272727\n",
      "3  0.363636\n",
      "4  0.454545\n",
      "5  0.545455\n",
      "6  0.636364\n",
      "7  0.727273\n",
      "8  0.818182\n",
      "9  0.909091\n",
      "          u\n",
      "0  0.506204\n",
      "1  0.655869\n",
      "2  0.661888\n",
      "3  0.610032\n",
      "4  0.534860\n",
      "5  0.450293\n",
      "6  0.361942\n",
      "7  0.272066\n",
      "8  0.181576\n",
      "9  0.090838\n",
      "          v\n",
      "0  1.818182\n",
      "1  3.545455\n",
      "2  5.090909\n",
      "3  6.363636\n",
      "4  7.272727\n",
      "5  7.727273\n",
      "6  7.636364\n",
      "7  6.909091\n",
      "8  5.454545\n",
      "9  3.181818\n",
      "   difference\n",
      "0    1.311977\n",
      "1    2.889585\n",
      "2    4.429022\n",
      "3    5.753604\n",
      "4    6.737867\n",
      "5    7.276979\n",
      "6    7.274421\n",
      "7    6.637025\n",
      "8    5.272970\n",
      "9    3.090981\n",
      "          x         u         v  difference\n",
      "0  0.090909  0.506204  1.818182    1.311977\n",
      "1  0.181818  0.655869  3.545455    2.889585\n",
      "2  0.272727  0.661888  5.090909    4.429022\n",
      "3  0.363636  0.610032  6.363636    5.753604\n",
      "4  0.454545  0.534860  7.272727    6.737867\n",
      "5  0.545455  0.450293  7.727273    7.276979\n",
      "6  0.636364  0.361942  7.636364    7.274421\n",
      "7  0.727273  0.272066  6.909091    6.637025\n",
      "8  0.818182  0.181576  5.454545    5.272970\n",
      "9  0.909091  0.090838  3.181818    3.090981\n"
     ]
    }
   ],
   "source": [
    "#problem 7\n",
    "import pandas as pd\n",
    "list_x=pd.DataFrame(x)\n",
    "list_x=pd.DataFrame(x, columns=['x'])\n",
    "print(list_x)\n",
    "\n",
    "list_u=pd.DataFrame(b)\n",
    "list_u=pd.DataFrame(b, columns=['u'])\n",
    "print(list_u)\n",
    "print(list_v)\n",
    "\n",
    "list_dvu=pd.DataFrame(v-b, columns=['difference'])\n",
    "print(list_dvu)\n",
    "\n",
    "listTOT = pd.concat([list_x, list_u, list_v, list_dvu], axis = 1)\n",
    "print(listTOT)\n",
    "\n",
    "listTOT.to_csv('listeDifference.csv')"
   ]
  },
  {
   "cell_type": "code",
   "execution_count": 233,
   "id": "f0a7faa3-253c-4896-94d7-a3b56964a7e2",
   "metadata": {},
   "outputs": [
    {
     "name": "stdout",
     "output_type": "stream",
     "text": [
      "0.271535426420465\n",
      "[0.271535426420465, 1.0611129909223942, 1.4881786804172032, 1.7498264868445215, 1.907743475708225, 1.9847158509664733, 1.984364288049463, 1.8926637964349124, 1.6625937373316049, 1.1284883558630656]\n",
      "     logDif\n",
      "0  0.271535\n",
      "1  1.061113\n",
      "2  1.488179\n",
      "3  1.749826\n",
      "4  1.907743\n",
      "5  1.984716\n",
      "6  1.984364\n",
      "7  1.892664\n",
      "8  1.662594\n",
      "9  1.128488\n"
     ]
    },
    {
     "data": {
      "image/png": "[encoded data removed]",
      "text/plain": [
       "<Figure size 432x288 with 1 Axes>"
      ]
     },
     "metadata": {
      "needs_background": "light"
     },
     "output_type": "display_data"
    }
   ],
   "source": [
    "#problem 8:\n",
    "import matplotlib.pyplot as plt\n",
    "import math\n",
    "\n",
    "#a) plotting log(error)\n",
    "\n",
    "l=[0]*10\n",
    "diff=v-b\n",
    "\n",
    "print(math.log(diff[0]))\n",
    "for i in range (10):\n",
    "    l[i] = math.log(diff[i])\n",
    "\n",
    "print(l)\n",
    "\n",
    "logDif=pd.DataFrame(l, columns=['logDif'])\n",
    "print(logDif)\n",
    "\n",
    "plt.plot(list_x.x, logDif.logDif)\n",
    "\n",
    "plt.savefig('problem8a.pdf')\n",
    "\n",
    "\n"
   ]
  },
  {
   "cell_type": "code",
   "execution_count": 234,
   "id": "24732f24-61b7-4033-b00f-d66dfb2ae9b6",
   "metadata": {},
   "outputs": [
    {
     "name": "stdout",
     "output_type": "stream",
     "text": [
      "[0.9523500298169529, 1.4829067949240597, 1.900838227620235, 2.2440701866371358, 2.5334940925907388, 2.7825717990201717, 3.0006351530729707, 3.1943741283580116, 3.368676738770029, 3.527169483978818]\n"
     ]
    },
    {
     "data": {
      "image/png": "[encoded data removed]",
      "text/plain": [
       "<Figure size 432x288 with 1 Axes>"
      ]
     },
     "metadata": {
      "needs_background": "light"
     },
     "output_type": "display_data"
    }
   ],
   "source": [
    "#b) plotting log of relative error\n",
    "\n",
    "rel = diff/b\n",
    "logError=[0]*10\n",
    "\n",
    "for i in range (10):\n",
    "    logError[i] = math.log(rel[i])\n",
    "    \n",
    "print(logError)\n",
    "\n",
    "relError = pd.DataFrame(rel, columns=['relError'])\n",
    "plt.plot(list_x.x, relError.relError)\n",
    "\n",
    "plt.savefig('problem8b.pdf')"
   ]
  },
  {
   "cell_type": "code",
   "execution_count": null,
   "id": "23a2d114-621d-4886-a037-277f4dae49df",
   "metadata": {},
   "outputs": [],
   "source": []
  }
 ],
 "metadata": {
  "kernelspec": {
   "display_name": "Python 3 (ipykernel)",
   "language": "python",
   "name": "python3"
  },
  "language_info": {
   "codemirror_mode": {
    "name": "ipython",
    "version": 3
   },
   "file_extension": ".py",
   "mimetype": "text/x-python",
   "name": "python",
   "nbconvert_exporter": "python",
   "pygments_lexer": "ipython3",
   "version": "3.9.12"
  }
 },
 "nbformat": 4,
 "nbformat_minor": 5
}
